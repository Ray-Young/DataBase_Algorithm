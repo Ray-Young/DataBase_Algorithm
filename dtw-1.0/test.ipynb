{
 "cells": [
  {
   "cell_type": "code",
   "execution_count": 1,
   "metadata": {
    "collapsed": true
   },
   "outputs": [],
   "source": [
    "from numpy import array, zeros, argmin, inf\n",
    "from numpy.linalg import norm\n",
    "\n",
    "\n",
    "def dtw(x, y, dist=lambda x, y: norm(x - y, ord=1)):\n",
    "    \"\"\" Computes the DTW of two sequences.\n",
    "\n",
    "    :param array x: N1*M array\n",
    "    :param array y: N2*M array\n",
    "    :param func dist: distance used as cost measure (default L1 norm)\n",
    "\n",
    "    Returns the minimum distance, the accumulated cost matrix and the wrap path.\n",
    "\n",
    "    \"\"\"\n",
    "    x = array(x)\n",
    "    if len(x.shape) == 1:\n",
    "        x = x.reshape(-1, 1)\n",
    "    y = array(y)\n",
    "    if len(y.shape) == 1:\n",
    "        y = y.reshape(-1, 1)\n",
    "\n",
    "    r, c = len(x), len(y)\n",
    "\n",
    "    D = zeros((r + 1, c + 1))\n",
    "    D[0, 1:] = inf\n",
    "    D[1:, 0] = inf\n",
    "\n",
    "    for i in range(r):\n",
    "        for j in range(c):\n",
    "            D[i+1, j+1] = dist(x[i], y[j])\n",
    "\n",
    "    for i in range(r):\n",
    "        for j in range(c):\n",
    "            D[i+1, j+1] += min(D[i, j], D[i, j+1], D[i+1, j])\n",
    "\n",
    "    D = D[1:, 1:]\n",
    "\n",
    "    dist = D[-1, -1] / sum(D.shape)\n",
    "\n",
    "    return dist, D\n",
    "\n",
    "\n",
    "def _trackeback(D):\n",
    "    i, j = array(D.shape) - 1\n",
    "    p, q = [i], [j]\n",
    "    while (i > 0 and j > 0):\n",
    "        tb = argmin((D[i-1, j-1], D[i-1, j], D[i, j-1]))\n",
    "\n",
    "        if (tb == 0):\n",
    "            i = i - 1\n",
    "            j = j - 1\n",
    "        elif (tb == 1):\n",
    "            i = i - 1\n",
    "        elif (tb == 2):\n",
    "            j = j - 1\n",
    "\n",
    "        p.insert(0, i)\n",
    "        q.insert(0, j)\n",
    "\n",
    "    p.insert(0, 0)\n",
    "    q.insert(0, 0)\n",
    "    return (array(p), array(q))\n"
   ]
  },
  {
   "cell_type": "code",
   "execution_count": 3,
   "metadata": {
    "collapsed": false
   },
   "outputs": [
    {
     "name": "stdout",
     "output_type": "stream",
     "text": [
      "(array([0, 1, 2, 3, 4, 4, 4, 4, 5, 6, 7, 8, 9]), array([0, 0, 1, 2, 3, 4, 5, 6, 7, 8, 8, 8, 9]))\n"
     ]
    }
   ],
   "source": [
    "x = [0, 0, 1, 1, 2, 4, 2, 1, 2, 0]\n",
    "y = [1, 1, 1, 2, 2, 2, 2, 3, 2, 0]\n",
    "dist, D = dtw(x, y)\n",
    "print(_trackeback(D))"
   ]
  },
  {
   "cell_type": "code",
   "execution_count": null,
   "metadata": {
    "collapsed": true
   },
   "outputs": [],
   "source": []
  }
 ],
 "metadata": {
  "anaconda-cloud": {},
  "kernelspec": {
   "display_name": "Python [default]",
   "language": "python",
   "name": "python3"
  },
  "language_info": {
   "codemirror_mode": {
    "name": "ipython",
    "version": 3
   },
   "file_extension": ".py",
   "mimetype": "text/x-python",
   "name": "python",
   "nbconvert_exporter": "python",
   "pygments_lexer": "ipython3",
   "version": "3.5.2"
  }
 },
 "nbformat": 4,
 "nbformat_minor": 1
}
